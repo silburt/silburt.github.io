{
 "cells": [
  {
   "cell_type": "markdown",
   "metadata": {},
   "source": [
    "# Lyric Analysis\n",
    "\n",
    "### By: Ari Silburt\n",
    "\n",
    "### Date: January 20th, 2017"
   ]
  },
  {
   "cell_type": "markdown",
   "metadata": {
    "collapsed": true
   },
   "source": [
    "<div class=\"col-lg-6 col-sm-7\">\n",
    "<p>\n",
    "Everyone listens to music. It is inexorably linked with who we are as humans, and the music one chooses to hear at a given moment is determined by how they are feeling.  \n",
    "</p>\n",
    "<p>\n",
    "The meaning behind music varies between songs, but are there general similarities between songs of a specific genre? What general feelings and emotions are conveyed by a particular genre as a whole?\n",
    "</p>\n",
    "</div>\n",
    "\n",
    "<div>\n",
    "<img src=\"lyric_analysis/Pink_floyd.jpg\", width=350>\n",
    "</div>"
   ]
  },
  {
   "cell_type": "markdown",
   "metadata": {},
   "source": [
    "## Setup\n",
    "The code used for this project comes from https://github.com/silburt/Machine_Learning/. \n",
    "\n",
    "First we need some songs. I picked a few <em>\"Best of (insert genre here)\"</em> playlists from Spotify and extracted a csv from [here](https://github.com/watsonbox/exportify) containing the artist and song for each entry. Then, I scraped each lyric from the genius.com API using standard Python packages like `BeautifulSoup` and `requests`. In total, I obtained roughly 1000 different songs released between 2000-2017 for each of: EDM, Hip-Hop, Country, Rock and Pop. All the relevant code for this is contained [here](https://github.com/silburt/Machine_Learning/).\n"
   ]
  },
  {
   "cell_type": "markdown",
   "metadata": {},
   "source": [
    "## Word Frequency\n",
    "Now that we have a collection of songs, it's time to get to some fun stuff and analyze their content. The most straightforward thing to do is analyze word frequencies, and see which words show up most often. This is done pretty easily in Python doing:\n",
    "***\n",
    "```python\n",
    "from collections import Counter\n",
    "import matplotlib.pyplot as plt\n",
    "import glob\n",
    "\n",
    "def get_most_common_words(genre='edm'):\n",
    "    #Load Songs\n",
    "    songs = glob.glob('%s_songs/*.txt'%genre)\n",
    "\n",
    "    # Count lyrics\n",
    "    cnt = Counter()\n",
    "    for song in songs:\n",
    "        lyrics = open(song, 'r').read().lower().split()\n",
    "        for word in lyrics:\n",
    "            cnt[word] += 1\n",
    "\n",
    "    return cnt\n",
    "\n",
    "# Get top 40 most common words\n",
    "cnt = get_most_common_words()\n",
    "labels, count = zip(*cnt.most_common(40)) \n",
    "\n",
    "# Plot\n",
    "x = range(len(count))\n",
    "plt.plot(x, count)\n",
    "plt.xticks(x, labels)\n",
    "```\n",
    "***\n",
    "This gives you some nice looking word frequency graphs, and shown below I've highlighted the plots of EDM and Pop:\n",
    "<div>\n",
    "<div><img src=\"lyric_analysis/worddist_edm.png\" align=\"left\" width=495 ></div>\n",
    "<div><img src=\"lyric_analysis/worddist_pop.png\" align=\"left\" width=495 ></div>\n",
    "</div>"
   ]
  },
  {
   "cell_type": "markdown",
   "metadata": {},
   "source": [
    "The first interesting thing about these graphs is the clear presence of [Zipfs Law](https://en.wikipedia.org/wiki/Zipf%27s_law), which is an interesting empirical law that states that the $\\rm{frequency}$ of a word is inversely proportional to its $\\rm{rank}$. Put another way, it should be universally true that:\n",
    "$$\n",
    "\\rm{rank}^p_i*\\rm{frequency}_i \\sim \\rm{rank}^p_j*\\rm{frequency}_j\n",
    "$$\n",
    "where $p$ is an exponent (in the ideal case $p=1$, but in practice this is usually not true).\n",
    "An equivalent statement is that the distribution of words forms a powerlaw, and should look like a straight line in a log-log plot (indeed these plots do, not shown here). \n",
    "\n",
    "So as an example for the EDM genre, if we take the first, middle and last words:\n",
    "<center> \"the\" : ($\\rm{rank}=1, \\rm{frequency=7289}$) </center>  \n",
    "<center> \"be\" : ($\\rm{rank}=20,\\rm{frequency=1524}$) </center>  \n",
    "<center> \"go\" : ($\\rm{rank}=40,\\rm{frequency=958}$) </center>  \n",
    "Chugging these through Zipfs law with $p=0.55$, we find that:\n",
    "\n",
    "$$\n",
    "\\rm{rank}^p_{the}*\\rm{frequency}_{the} = 1^{0.55}*7289 = 7289   \\\\\n",
    "\\rm{rank}^p_{be}*\\rm{frequency}_{be} = 20^{0.55}*1524 = 7916   \\\\\n",
    "\\rm{rank}^p_{go}*\\rm{frequency}_{go} = 40^{0.55}*958 = 7286   \n",
    "$$\n",
    "Indeed Zipfs law holds!\n",
    "\n",
    "The second interesting thing is that the average number of words per EDM song less than half that of Pop. The table below shows the average words per song, and we see that Pop has more words per song than even Hip-Hop, which is a bit surprising to me considering that lyrics play an especially central role in Hip-hop. It does however make sense (to me at least) that EDM would have the fewest words per song. Often times I get the feeling that EDM lyrics are a bumper sticker afterthought...\n",
    "\n",
    "| Genre        | Avg. Words per Song\n",
    "| ------------- |:-------------:| \n",
    "| Pop      | 423 | \n",
    "| Hip-Hop  | 368 |\n",
    "| Country  | 274 |\n",
    "| Rock     | 225 |\n",
    "| EDM      | 203 |"
   ]
  },
  {
   "cell_type": "markdown",
   "metadata": {},
   "source": [
    "## Word Correlations\n",
    "A more interesting thing to do is compare the popularity of words between genres. If we rank the words in each genre by frequency and compare, this can reveal the (sometimes not so) subtle messages between genres. Like before, this can be done pretty easily in Python using the previous code block used above along with a bit more code:\n",
    "***\n",
    "```python\n",
    "def get_word_ranks(cnt1, pos1, cnt2, pos2, master_labels, n_words, pad=20):\n",
    "    labels1, count1 = zip(*cnt1.most_common(10*n_words))\n",
    "    labels2, count2 = zip(*cnt2.most_common(10*n_words))\n",
    "    for i in range(n_words):\n",
    "        l = labels1[i]\n",
    "        if l not in master_labels[0:n_words]:\n",
    "            try:\n",
    "                _c, _p = cnt2[l], labels2.index(l)\n",
    "                pos2.append(min(_p,(pad-3)*np.random.random()+n_words+1))\n",
    "            except:\n",
    "                pos2.append((pad-3)*np.random.random()+n_words+1)\n",
    "            master_labels.append(l)\n",
    "            pos1.append(i)\n",
    "    return master_labels, pos1, pos2\n",
    "\n",
    "n_words = 80\n",
    "cnt_edm = get_most_common_words('edm')\n",
    "cnt_hh = get_most_common_words('hip-hop')\n",
    "labels, pos_edm, pos_hh = [], [], []\n",
    "\n",
    "labels, pos_edm, pos_hh = get_word_ranks(cnt_edm, pos_edm, cnt_hh, pos_hh, labels, n_words)\n",
    "labels, pos_hh, pos_edm = get_word_ranks(cnt_hh, pos_hh, cnt_edm, pos_edm, labels, n_words)\n",
    "\n",
    "plt.plot(pos_edm, pos_hh, '.', color='black')\n",
    "for i in range(len(pos_hh)):\n",
    "    plt.text(pos_edm[i]+0.2, pos_hh[i]+0.2, labels[i], size=10, rotation=20)\n",
    "```\n",
    "***"
   ]
  },
  {
   "cell_type": "markdown",
   "metadata": {},
   "source": [
    "<div class=\"col-lg-9 col-sm-7\">\n",
    "<img src=\"lyric_analysis/wordcorr_edm_hip-hop.png\" align=\"left\" width=800 >\n",
    "</div>\n",
    "\n",
    "<br><br><br><br><br><br>\n",
    "\n",
    "| Unique EDM Words | Unique Hip-Hop Words\n",
    "| ------------- |:-------------:| \n",
    "| we    | my\n",
    "| oh    | she  \n",
    "| love  | bitch \n",
    "| feel  | fuck\n",
    "| time  | money \n",
    "| heart | girl "
   ]
  },
  {
   "cell_type": "markdown",
   "metadata": {
    "collapsed": true
   },
   "source": [
    "<div class=\"col-lg-9 col-sm-7\">\n",
    "<img src=\"lyric_analysis/wordcorr_pop_rock.png\" align=\"left\" width=800 >\n",
    "</div>\n",
    "\n",
    "<br><br><br><br><br><br>\n",
    "\n",
    "| Unique EDM Words | Unique Hip-Hop Words\n",
    "| ------------- |:-------------:| \n",
    "| we    | my\n",
    "| oh    | she  \n",
    "| love  | bitch \n",
    "| feel  | fuck\n",
    "| time  | money \n",
    "| heart | girl "
   ]
  },
  {
   "cell_type": "code",
   "execution_count": 1,
   "metadata": {},
   "outputs": [
    {
     "ename": "SyntaxError",
     "evalue": "invalid syntax (<ipython-input-1-52125a08f3b7>, line 1)",
     "output_type": "error",
     "traceback": [
      "\u001b[0;36m  File \u001b[0;32m\"<ipython-input-1-52125a08f3b7>\"\u001b[0;36m, line \u001b[0;32m1\u001b[0m\n\u001b[0;31m    <div>\u001b[0m\n\u001b[0m    ^\u001b[0m\n\u001b[0;31mSyntaxError\u001b[0m\u001b[0;31m:\u001b[0m invalid syntax\n"
     ]
    }
   ],
   "source": [
    "<div>\n",
    "<div><img src=\"lyric_analysis/wordcorr_edm_hip-hop.png\" align=\"left\" width=495 ></div>\n",
    "<div><img src=\"lyric_analysis/wordcorr_edm_pop.png\" align=\"left\" width=495 ></div>\n",
    "</div>"
   ]
  },
  {
   "cell_type": "code",
   "execution_count": null,
   "metadata": {
    "collapsed": true
   },
   "outputs": [],
   "source": []
  }
 ],
 "metadata": {
  "kernelspec": {
   "display_name": "Python 2",
   "language": "python",
   "name": "python2"
  },
  "language_info": {
   "codemirror_mode": {
    "name": "ipython",
    "version": 2
   },
   "file_extension": ".py",
   "mimetype": "text/x-python",
   "name": "python",
   "nbconvert_exporter": "python",
   "pygments_lexer": "ipython2",
   "version": "2.7.13"
  }
 },
 "nbformat": 4,
 "nbformat_minor": 2
}
