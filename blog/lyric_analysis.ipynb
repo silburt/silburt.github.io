{
 "cells": [
  {
   "cell_type": "markdown",
   "metadata": {},
   "source": [
    "# Lyric Analysis and Machine Learning in Python\n",
    "\n",
    "### By: Ari Silburt\n",
    "\n",
    "### Date: January 20th, 2017"
   ]
  },
  {
   "cell_type": "markdown",
   "metadata": {
    "collapsed": true
   },
   "source": [
    "<div class=\"col-lg-6 col-sm-7\">\n",
    "<p>\n",
    "Everyone listens to music. It is inexorably linked with who we are as humans, and the music one chooses to hear at a given moment is determined by how they are feeling.  \n",
    "</p>\n",
    "<p>\n",
    "The meaning behind music varies between songs, but are there general similarities between songs of a specific genre? What general feelings and emotions are conveyed by a particular genre as a whole?\n",
    "</p>\n",
    "</div>\n",
    "\n",
    "<div>\n",
    "<img src=\"lyric_analysis/Pink_floyd.jpg\", width=350>\n",
    "</div>"
   ]
  },
  {
   "cell_type": "markdown",
   "metadata": {},
   "source": [
    "## Setup\n",
    "The code used for this project comes from https://github.com/silburt/Machine_Learning/. \n",
    "\n",
    "First we need some songs. I picked a few playlists from Spotify: \n",
    "- Country Top Songs of 2000-2017 (1567 songs)\n",
    "- Best EDM Playlist on the Planet! (1592 songs)\n",
    "- Greatest Rock Songs Ever (1049 songs)\n",
    "- Super Top Hits 2000-2016 (1603 songs)\n",
    "- BEST of RAP (2128 songs)\n",
    "\n",
    "and converted the playlists to csvs [here](https://github.com/watsonbox/exportify) where each row contains the artist, song, album, etc. for each entry. Then, I scraped each lyric from the genius.com API using standard Python packages like `BeautifulSoup` and `requests`. A good fraction of songs (20-40% per genre) weren't recognized in the genius.com API due to e.g. slightly different names between spotify and genius, mix version, etc. I also removed any songs that had fewer than 15 words (i.e. instrumentals). In total at least 1000 songs were obtained for each genre, and will use exactly 1000 songs from each genre for the following analysis.\n"
   ]
  },
  {
   "cell_type": "markdown",
   "metadata": {},
   "source": [
    "## Word Frequency\n",
    "Now that we have a collection of songs, it's time to get to some fun stuff and analyze their content. The most straightforward thing to do is analyze word frequencies, and see which words show up most often. This is done pretty easily in Python:\n",
    "***\n",
    "```python\n",
    "from collections import Counter\n",
    "import matplotlib.pyplot as plt\n",
    "import glob\n",
    "\n",
    "def get_most_common_words(genre='edm'):\n",
    "    #Load Songs\n",
    "    songs = glob.glob('%s_songs/*.txt'%genre)\n",
    "\n",
    "    # Count lyrics\n",
    "    cnt = Counter()\n",
    "    for song in songs:\n",
    "        lyrics = open(song, 'r').read().lower().split()\n",
    "        for word in lyrics:\n",
    "            cnt[word] += 1\n",
    "    return cnt\n",
    "\n",
    "# Get top 40 most common words\n",
    "cnt = get_most_common_words()\n",
    "labels, count = zip(*cnt.most_common(40)) \n",
    "\n",
    "# Plot\n",
    "x = range(len(count))\n",
    "plt.plot(x, count)\n",
    "plt.xticks(x, labels)\n",
    "```\n",
    "***\n",
    "This gives you some nice looking word frequency graphs, EDM and Pop are shown below:\n",
    "<div>\n",
    "<div><img src=\"lyric_analysis/worddist_edm.png\" align=\"left\" width=495 ></div>\n",
    "<div><img src=\"lyric_analysis/worddist_pop.png\" align=\"left\" width=495 ></div>\n",
    "</div>"
   ]
  },
  {
   "cell_type": "markdown",
   "metadata": {},
   "source": [
    "You can clearly notice [Zipfs Law](https://en.wikipedia.org/wiki/Zipf%27s_law), an empirical law which states that the $\\rm{frequency}$ of a word is inversely proportional to its $\\rm{rank}$. In math:\n",
    "$$\n",
    "\\rm{rank}^p_i*\\rm{frequency}_i \\sim \\rm{rank}^p_j*\\rm{frequency}_j\n",
    "$$\n",
    "where $p$ is an exponent (in the ideal case $p=1$, in practice usually not true).\n",
    "An equivalent statement is that the distribution of words forms a powerlaw, and should look like a straight line in a log-log plot. \n",
    "\n",
    "So for example, if we take the 1st, 20th and 40th most common words from the EDM genre:\n",
    "<center> \"the\" : ($\\rm{rank}=1, \\rm{frequency=7289}$) </center>  \n",
    "<center> \"be\" : ($\\rm{rank}=20,\\rm{frequency=1524}$) </center>  \n",
    "<center> \"go\" : ($\\rm{rank}=40,\\rm{frequency=958}$) </center>  \n",
    "Chugging these through Zipfs law with $p=0.55$, we get:\n",
    "\n",
    "$$\n",
    "\\rm{rank}^p_{the}*\\rm{frequency}_{the} = 1^{0.55}*7289 = 7289   \\\\\n",
    "\\rm{rank}^p_{be}*\\rm{frequency}_{be} = 20^{0.55}*1524 = 7916   \\\\\n",
    "\\rm{rank}^p_{go}*\\rm{frequency}_{go} = 40^{0.55}*958 = 7286   \n",
    "$$\n",
    "Indeed, Zipfs law holds.\n",
    "\n",
    "Another notable thing is that the average number of words in an EDM song is less than half that of Pop. The table below shows the average words per song, and we see that Rap has by far the most words per song, which is expected  since lyrics play an especially central role in Hip-hop. It also is not surprising (to me at least) that EDM would have the fewest words per song, as the genre tends to be more focused on the buildups and explosive drops.\n",
    "\n",
    "| Genre        | Avg. Words per Song\n",
    "| ------------- |:-------------:| \n",
    "| Rap      | 603 | \n",
    "| Pop      | 423 | \n",
    "| Country  | 274 |\n",
    "| Rock     | 225 |\n",
    "| EDM      | 203 |"
   ]
  },
  {
   "cell_type": "markdown",
   "metadata": {},
   "source": [
    "## Word Correlations\n",
    "Another interesting thing is to compare the popularity of each word between genres. If we rank all the words by popularity and compare across genres this can reveal differences in overall intent. This can also be done pretty easily in Python:\n",
    "***\n",
    "```python\n",
    "def get_word_ranks(cnt1, pos1, cnt2, pos2, master_labels, n_words, pad=20):\n",
    "    labels1, count1 = zip(*cnt1.most_common(10*n_words))\n",
    "    labels2, count2 = zip(*cnt2.most_common(10*n_words))\n",
    "    for i in range(n_words):\n",
    "        l = labels1[i]\n",
    "        if l not in master_labels[0:n_words]:\n",
    "            try:\n",
    "                _c, _r = cnt2[l], labels2.index(l)\n",
    "                pos2.append(min(_r,n_words))\n",
    "            except:\n",
    "                pos2.append(n_words)\n",
    "            master_labels.append(l)\n",
    "            pos1.append(i)\n",
    "    return master_labels, pos1, pos2\n",
    "\n",
    "# get word frequencies\n",
    "n_words = 80\n",
    "cnt_edm = get_most_common_words('edm')\n",
    "cnt_hh = get_most_common_words('hip-hop')\n",
    "labels, pos_edm, pos_hh = [], [], []\n",
    "\n",
    "# get word correlations\n",
    "labels, pos_edm, pos_hh = get_word_ranks(cnt_edm, pos_edm, cnt_hh, pos_hh, labels, n_words)\n",
    "labels, pos_hh, pos_edm = get_word_ranks(cnt_hh, pos_hh, cnt_edm, pos_edm, labels, n_words)\n",
    "\n",
    "# plot\n",
    "plt.plot(pos_edm, pos_hh, '.', color='black')\n",
    "for i in range(len(pos_hh)):\n",
    "    rot, bx, by = 0, 0.5, -1\n",
    "    if pos_hh[i] == n_words:\n",
    "        rot, bx, by = 90, 0, 5\n",
    "    plt.text(pos_edm[i]+bx, pos_hh[i]+by, labels[i], size=10, rotation=rot)\n",
    "```\n",
    "***\n",
    "\n",
    "Yielding the following plot: \n",
    "<div>\n",
    "<img src=\"lyric_analysis/wordcorr_edm_hip-hop.png\" width=850>\n",
    "</div>\n",
    "\n",
    "In this plot we have EDM rank on the x-axis, and Hip-Hop rank on the y-axis. The blue and two green lines show $y=x$, $y=2x$ and $y=0.5x$ lines, respectively. Thus, words near the blue line are equally as popular between genres, while at and beyond the green lines are words disproportionately more popular in one genre vs. another. So for example, \"love\" is the 17th most popular EDM word and 68th most popular hip-hop word, and thus lies beyond the $y=2x$ line. \n",
    "\n",
    "Finally, the datapoints that fall on the red-dotted lines correspond to words that either:\n",
    "- did not show up in at all in the other genre (e.g. \"bitch\" doesn't show up at all in EDM)\n",
    "- had too high of a rank to fit comfortably on the plot (e.g. \"she\" has a rank of 203 in EDM). "
   ]
  },
  {
   "cell_type": "markdown",
   "metadata": {
    "collapsed": true
   },
   "source": [
    "## Unique Words\n",
    "To me, probably the most interesting thing is to find words with disproportionately high or low rankings when compared across all genres. This augments the analysis above, where I was only comparing ranks between two genres at a time. The first table below shows words with at least a 1.5x higher rank in a given genre, while the second table shows words with at least a 1.5x lower rank than all the other genres.\n",
    "\n",
    "<br>\n",
    "<center> __Disproportionately high rank for given genre__ </center>\n",
    "\n",
    "| EDM | Hip-Hop | Rock | Country | Pop | \n",
    "| ------------- |:-------------:| ------------- |:-------------:| ------------- |\n",
    "| we    | got       | well   | little | |\n",
    "| feel  | she       | woman  | every  | |\n",
    "| we're | ni\\*\\*a(s)| soul   | old    | |\n",
    "| our   | they      | people | song   | |\n",
    "| us    | bitch(es) |        | kiss   | |\n",
    "| into  | fuck      |        | town   | |\n",
    "| again | shit      |        | road   | |\n",
    "| light | money     |        | those  | |\n",
    "| fire  | i'mma     |        | | |\n",
    "| fall  | hit       |        | | |\n",
    "| jump  | pussy     |        | | | |\n",
    "\n",
    "<br>\n",
    "<center> __Disproportionately low rank for given genre__ </center>\n",
    "\n",
    "| EDM | Hip-Hop | Rock | Country | Pop | \n",
    "| ------------- |:-------------:| ------------- |:-------------:| ------------- |\n",
    "| she   | love   | up   | | |\n",
    "| ain't | we're  | hard | | |\n",
    "| her   | you're | work | | |\n",
    "| girl  | our    | even | | |\n",
    "| man   | gonna  |      | | |\n",
    "| he    | away   |      | | |\n",
    "| bad   | heart  |      | | |\n",
    "| she's | were   |      | | |\n",
    "| his   | world  |      | | |\n",
    "| crazy | light  |      | | |\n",
    "| him   | eyes   |      | | | |\n",
    "\n",
    "A few interesting trends emerge from these tables:\n",
    "- __EDM__: Focuses on togetherness (we, our, us), feelings, and drama (fire, light, fall, jump). It also appears very gender neutral, with gendered (pro)nouns like she/he, her/him, girl/man disproportionately rare.\n",
    "- __Hip-Hop__: (Probably unsurprisingly), it's focused on women, money, and sex. J-Cole speaks the truth when he says (in G.O.M.D.), \"_It's called love, Ni\\*\\*as don't sing about it no more_\". \"Love\" was the most striking example of a word that had a disproportionately low rank in a specific genre. This trend seems to persist, having other romantic words like \"heart\", \"our\", \"light\", \"eyes\" being disproportionately rare in Hip-Hop.\n",
    "- __Rock__: Still seems to have retained some overarching themes from the 60s and 70s maybe, with popular words like woman, soul and people. Not sure what to make of the disproportionately rare words... maybe rock musicians hate \"hard work\" :P?\n",
    "- __Country__: Unsurprisingly, Country seems focused on the simpler things in life (song, kiss, road), and also _really_ likes to miniaturize things - \"little baby\", \"little thing\", \"little kisses\", etc., with \"little\" being the top unique word.\n",
    "- __Pop__: Pop has no disproportionately popular/rare words, which is expected given that pop music draws from all the other genres. Country, Rock, Hip-Hop and EDM all penetrate the Top40s continuously. In contrast, EDM and Hip-Hop seem to be the two most distinct genres, having the most number of disproportionately popular/rare words (there are more disproportionately rare words for both genres not shown here)."
   ]
  },
  {
   "cell_type": "markdown",
   "metadata": {},
   "source": [
    "## Train a Neural Network to generate new lyrics"
   ]
  },
  {
   "cell_type": "code",
   "execution_count": 9,
   "metadata": {},
   "outputs": [
    {
     "data": {
      "text/plain": [
       "array([ 0,  2,  4,  6,  8, 10, 12, 14, 16, 18])"
      ]
     },
     "execution_count": 9,
     "metadata": {},
     "output_type": "execute_result"
    }
   ],
   "source": [
    "import numpy as np\n",
    "a=np.arange(10)\n",
    "2*a"
   ]
  },
  {
   "cell_type": "code",
   "execution_count": 14,
   "metadata": {},
   "outputs": [
    {
     "data": {
      "text/plain": [
       "array([0, 1, 2, 3, 4])"
      ]
     },
     "execution_count": 14,
     "metadata": {},
     "output_type": "execute_result"
    }
   ],
   "source": [
    "np.where(10 > 2*a)[0]"
   ]
  },
  {
   "cell_type": "code",
   "execution_count": 11,
   "metadata": {},
   "outputs": [
    {
     "data": {
      "text/plain": [
       "True"
      ]
     },
     "execution_count": 11,
     "metadata": {},
     "output_type": "execute_result"
    }
   ],
   "source": [
    "15 > 2*a.any()"
   ]
  },
  {
   "cell_type": "markdown",
   "metadata": {},
   "source": [
    "\n",
    "\"Love\" was the most striking example of a word that had a high rank in all genres except Hip-Hop, with ranks of 17, 14, 23 and 15 for EDM, Rock, Country and Pop respectively, while having a rank of 64 in Hip-Hop. If you prefer comparing the actual word counts (normalized by song length), \"love\" appears on average 5 times less than the other genres. "
   ]
  }
 ],
 "metadata": {
  "kernelspec": {
   "display_name": "Python 2",
   "language": "python",
   "name": "python2"
  },
  "language_info": {
   "codemirror_mode": {
    "name": "ipython",
    "version": 2
   },
   "file_extension": ".py",
   "mimetype": "text/x-python",
   "name": "python",
   "nbconvert_exporter": "python",
   "pygments_lexer": "ipython2",
   "version": "2.7.13"
  }
 },
 "nbformat": 4,
 "nbformat_minor": 2
}
