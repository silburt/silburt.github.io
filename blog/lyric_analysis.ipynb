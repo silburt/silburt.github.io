{
 "cells": [
  {
   "cell_type": "markdown",
   "metadata": {},
   "source": [
    "# Lyric Analysis\n",
    "\n",
    "### By: Ari Silburt\n",
    "\n",
    "### Date: January 20th, 2017"
   ]
  },
  {
   "cell_type": "markdown",
   "metadata": {
    "collapsed": true
   },
   "source": [
    "<div class=\"col-lg-6 col-sm-7\">\n",
    "Everyone listens to music. It is inexorably linked with who we are as humans, and the music one chooses to hear at a given moment is determined by how they are feeling.  \n",
    "\n",
    "The meaning behind music varies between songs, but are there general similarities between songs of a specific genre? What general feelings and emotions are conveyed by a particular genre as a whole?\n",
    "</div>\n",
    "<img src=\"lyric_analysis/Pink_floyd.jpg\", width=350>\n"
   ]
  },
  {
   "cell_type": "markdown",
   "metadata": {},
   "source": [
    "## Setup\n",
    "The code used for this project comes from <a href=\"https://github.com/silburt/Machine_Learning/\">https://github.com/silburt/Machine_Learning/</a>. I'll use little code snippets here when useful, but will err on the sparse side.\n",
    "\n",
    "-spotify, 6 genres, 1000 songs each. Scrape"
   ]
  },
  {
   "cell_type": "markdown",
   "metadata": {},
   "source": [
    "## Word Frequency and Correlation"
   ]
  },
  {
   "cell_type": "markdown",
   "metadata": {},
   "source": [
    "<img src=\"lyric_analysis/worddist_edm.png\" align=\"left\" width=600 >"
   ]
  },
  {
   "cell_type": "markdown",
   "metadata": {},
   "source": [
    "<img src=\"lyric_analysis/wordcorr_edm_hip-hop.png\" align=\"left\" width=600 >"
   ]
  },
  {
   "cell_type": "markdown",
   "metadata": {},
   "source": [
    "<div>\n",
    "\n",
    "<div style=”width:50%”><img src=\"lyric_analysis/wordcorr_edm_hip-hop.png\" align=\"left\" width=450 ></div>\n",
    "\n",
    "<div style=”width:50%”><img src=\"lyric_analysis/wordcorr_rock_pop.png\" align=\"left\" width=450 ></div>\n",
    "\n",
    "</div>\n"
   ]
  },
  {
   "cell_type": "code",
   "execution_count": null,
   "metadata": {
    "collapsed": true
   },
   "outputs": [],
   "source": []
  }
 ],
 "metadata": {
  "kernelspec": {
   "display_name": "Python 2",
   "language": "python",
   "name": "python2"
  },
  "language_info": {
   "codemirror_mode": {
    "name": "ipython",
    "version": 2
   },
   "file_extension": ".py",
   "mimetype": "text/x-python",
   "name": "python",
   "nbconvert_exporter": "python",
   "pygments_lexer": "ipython2",
   "version": "2.7.13"
  }
 },
 "nbformat": 4,
 "nbformat_minor": 2
}
